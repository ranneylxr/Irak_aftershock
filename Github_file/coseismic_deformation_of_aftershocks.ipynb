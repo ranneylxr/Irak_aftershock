{
 "cells": [
  {
   "cell_type": "markdown",
   "metadata": {},
   "source": [
    "Aftershocks with significant co-seismic displacement."
   ]
  },
  {
   "cell_type": "markdown",
   "metadata": {},
   "source": [
    "Aftershocks between 20 November,2017 and 1 April, 2019 were selected. Then aftershocks with magnitude larger than Mw 5.0 were chosen and interferograms and deformation field were calculated to see if there is obvious deformation. Finally, only aftershocks happend in 11 January 2018; 22 July 2018; 25 August 2018 and 25 November 2018 can meet the conditions."
   ]
  },
  {
   "cell_type": "markdown",
   "metadata": {},
   "source": [
    "For these earthquakes, we first showed the interferograms and displacement of ascending and descending data. Then the vertical and horizontal displacement(E-W) were calculated."
   ]
  },
  {
   "cell_type": "markdown",
   "metadata": {},
   "source": [
    "Aftershocks happend in 11 January,2018."
   ]
  },
  {
   "cell_type": "markdown",
   "metadata": {},
   "source": [
    "There are 6 aftershocks happened in this day and the magnitude(Mw) of aftershocks are 5.3, 5.1, 5.3,5.3,5.5 and 5.2 respectively.All these earthuake happend between 6:59(UTC) to 8:00(UTC).The type of these earthquakes are thrust.It should be noticed that the first five earthquakes are in the same region(Figure 1).Figure 2 and Figure 3 are the inferograms of ascending and descending data. Figure 4 and 5 are displacement of ascending and descending data. And Figure 6 and 7 are horizontal and vertical displacement.   \n",
    "Aftershock with Mw 5.2 was ignored because the relative small magnitude and the no covering of ascending data."
   ]
  },
  {
   "cell_type": "markdown",
   "metadata": {},
   "source": [
    "![Figure1](../Github_image/20180111.png)"
   ]
  },
  {
   "cell_type": "markdown",
   "metadata": {},
   "source": [
    "![Figure2](../Github_image/20180111_A.png)"
   ]
  },
  {
   "cell_type": "markdown",
   "metadata": {},
   "source": [
    "![Figure3](../Github_image/20180111_D.png)"
   ]
  },
  {
   "cell_type": "markdown",
   "metadata": {},
   "source": [
    "![Figure](../Github_image/20180111/geo_20180110_20180116.png)"
   ]
  },
  {
   "cell_type": "markdown",
   "metadata": {},
   "source": [
    "![Figure5](../Github_image/2018011/geo_20180105_20180117.png)"
   ]
  },
  {
   "cell_type": "markdown",
   "metadata": {},
   "source": [
    "![Figure6](../Github_image/20180111/hz.png)"
   ]
  },
  {
   "cell_type": "markdown",
   "metadata": {},
   "source": [
    "![Figure7](../Github_image/20180111/up.png)"
   ]
  },
  {
   "cell_type": "markdown",
   "metadata": {},
   "source": [
    "Aftershock happened in 22 July, 2018."
   ]
  },
  {
   "cell_type": "markdown",
   "metadata": {},
   "source": [
    "The magnitude of this aftershock is Mw5.8 and the type is strike. The following pictures are the location of aftershock, the inferograms of ascending and descending data, the displacement of ascending and descending data, the horizontal and vertical displacement. From these pictures we can see that ascending data can cover the whole displacement region of aftershock while the descending data cannot cover the whole region. "
   ]
  },
  {
   "cell_type": "markdown",
   "metadata": {},
   "source": [
    "![Figure8](../Github_image/20180722.png)"
   ]
  },
  {
   "cell_type": "markdown",
   "metadata": {},
   "source": [
    "![Figure9](../Github_image/20180722_A.png)"
   ]
  },
  {
   "cell_type": "markdown",
   "metadata": {},
   "source": [
    "![Figure10](../Github_image/20180722_D.png)"
   ]
  },
  {
   "cell_type": "markdown",
   "metadata": {},
   "source": [
    "![Figure11](../Github_image/20180722/geo_20180721_20180727.png)"
   ]
  },
  {
   "cell_type": "markdown",
   "metadata": {},
   "source": [
    "![Figure12](../Github_image/20180722/geo_20180716_20180728.png)"
   ]
  },
  {
   "cell_type": "markdown",
   "metadata": {},
   "source": [
    "![Figure13](../Github_image/20180722/hz.png)"
   ]
  },
  {
   "cell_type": "markdown",
   "metadata": {},
   "source": [
    "![Figure14](../Github_image/20180722/up.png)"
   ]
  },
  {
   "cell_type": "markdown",
   "metadata": {},
   "source": [
    "Aftershock happend in 25 August, 2018."
   ]
  },
  {
   "cell_type": "markdown",
   "metadata": {},
   "source": [
    "The magnitude of this aftershock is Mw6.0 and the type is strike. The following pictures are the location of aftershock, the inferograms of ascending and descending data, the displacement of ascending and descending data, the horizontal and vertial displacement. As aftershock happend in 22 July,2018, only ascending data can cover the whole displacement region."
   ]
  },
  {
   "cell_type": "markdown",
   "metadata": {},
   "source": [
    "![Figure15](../Github_image/20180825.png)"
   ]
  },
  {
   "cell_type": "markdown",
   "metadata": {},
   "source": [
    "![Figure16](../Github_image/20180825_A.png)"
   ]
  },
  {
   "cell_type": "markdown",
   "metadata": {},
   "source": [
    "![Figure17](../Github_image/20180825_D.png)"
   ]
  },
  {
   "cell_type": "markdown",
   "metadata": {},
   "source": [
    "![Figure18](../Github_image/20180825/geo_20180820_20180826.png)"
   ]
  },
  {
   "cell_type": "markdown",
   "metadata": {},
   "source": [
    "![Figure19](../Github_image/20180825/geo_20180821_20180902.png)"
   ]
  },
  {
   "cell_type": "markdown",
   "metadata": {},
   "source": [
    "![Figure20](../Github_image/20180825/hz.png)"
   ]
  },
  {
   "cell_type": "markdown",
   "metadata": {},
   "source": [
    "![Figure21](../Github_image/20180825/up.png)"
   ]
  },
  {
   "cell_type": "markdown",
   "metadata": {},
   "source": [
    "Aftershocks happend in 25 November,2018"
   ]
  },
  {
   "cell_type": "markdown",
   "metadata": {},
   "source": [
    "There are three aftershocks happened in this day and the magnitude(Mw) are 6.3, 5.2 and 5. The type of Mw 6.3 earthquake is strike and the type of Mw5.2 earthquake is thrust.The time of Mw 6.3 earthquake is 16:37(UTC) and the time of Mw 5.2 earthquake is 17:09(UTC). All of them are in the same region. The following pictures are the location of aftershocks, the inferograms of ascending and descending data, the displacement of ascending and descending data, the horizontal and vertial displacement. From the interferogram and displacement, we can see that the signal of these two earthquake is mixed and it will be difficult to distinguish them."
   ]
  },
  {
   "cell_type": "markdown",
   "metadata": {},
   "source": [
    "![Figure22](../Github_image/20181125.png)"
   ]
  },
  {
   "cell_type": "markdown",
   "metadata": {},
   "source": [
    "![Figure23](../Github_image/20181125_A.png)"
   ]
  },
  {
   "cell_type": "markdown",
   "metadata": {},
   "source": [
    "![Figure23](../Github_image/20181125_D.png)"
   ]
  },
  {
   "cell_type": "markdown",
   "metadata": {},
   "source": [
    "![Figure24](../geo_20181118_20181130.png)"
   ]
  },
  {
   "cell_type": "markdown",
   "metadata": {},
   "source": [
    "![Figure25](../Github_image/20181125/geo_20181125_20181207.png)"
   ]
  },
  {
   "cell_type": "markdown",
   "metadata": {},
   "source": [
    "![Figure26](../Github_image/20181125/hz.png)"
   ]
  },
  {
   "cell_type": "markdown",
   "metadata": {},
   "source": [
    "![Figure27](../Github_image/20181125/up.png)"
   ]
  },
  {
   "cell_type": "markdown",
   "metadata": {},
   "source": [
    "Conclusion:"
   ]
  },
  {
   "cell_type": "markdown",
   "metadata": {},
   "source": [
    "For aftershocks happend in 11 January, 2018(except Mw 5.2), One uniform slip fault can be used to model the surface displacement because all them happened in one hour and had the similar magnitude.\n",
    "\n",
    "For aftershocks happend in 25 November,2018, deformation of Mw5.2 earthquake mixed with deformation of Mw6.3 earthquake. From the mixed deformation field, we can not see the feature of strike. So, One uniform slip fault may can be used to model these two earthquakes because these two earthquake happend in 30min.\n",
    "\n",
    "For aftershock happend in 22 July,2018, only ascending data can be used because the decending data can not cover the whole deformation region. And one uniform strike fault can be used to model the earthquake.\n",
    "\n",
    "For aftereshock hapoend in 25 August 2018, only ascending data can be used because the decending data can not cover the whole deformation region. And one uniform strike fault can be used to model the earthquake."
   ]
  }
 ],
 "metadata": {
  "kernelspec": {
   "display_name": "Python 3",
   "language": "python",
   "name": "python3"
  },
  "language_info": {
   "codemirror_mode": {
    "name": "ipython",
    "version": 3
   },
   "file_extension": ".py",
   "mimetype": "text/x-python",
   "name": "python",
   "nbconvert_exporter": "python",
   "pygments_lexer": "ipython3",
   "version": "3.7.3"
  }
 },
 "nbformat": 4,
 "nbformat_minor": 2
}
